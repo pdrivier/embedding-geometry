{
 "cells": [
  {
   "cell_type": "markdown",
   "id": "dec0b9aa",
   "metadata": {},
   "source": [
    "# Skip-gram with Negative Sampling\n",
    "\n",
    "Here, I train three SGNS models on a corpus of differing size (1 MB, 10 MB, and 50 MB) loaded from [Gensim](https://radimrehurek.com/gensim/auto_examples/tutorials/run_word2vec.html#sphx-glr-auto-examples-tutorials-run-word2vec-py). \n",
    "\n",
    "This work is meant to replicate [Mimno & Thompson (2017)](https://aclanthology.org/D17-1308.pdf), who use inner products between embeddings to show that the distribution of learned embeddings is influenced by the number of negative samples, and the frequency, of word embeddings. "
   ]
  },
  {
   "cell_type": "code",
   "execution_count": 189,
   "id": "fa14668e",
   "metadata": {},
   "outputs": [
    {
     "name": "stdout",
     "output_type": "stream",
     "text": [
      "Once deleted, variables cannot be recovered. Proceed (y/[n])? y\n"
     ]
    }
   ],
   "source": [
    "%reset\n",
    "\n",
    "import gensim\n",
    "import io\n",
    "import os\n",
    "import smart_open\n",
    "\n",
    "import gensim.downloader as api\n",
    "import matplotlib.pyplot as plt\n",
    "import numpy as np\n",
    "import pandas as pd\n",
    "import seaborn as sns\n",
    "\n",
    "from gensim import utils\n",
    "from gensim.test.utils import datapath\n",
    "from sklearn.decomposition import PCA\n",
    "from tqdm.notebook import tqdm"
   ]
  },
  {
   "cell_type": "markdown",
   "id": "6ee8d262",
   "metadata": {},
   "source": [
    "### Define Custom Functions & Classes"
   ]
  },
  {
   "cell_type": "code",
   "execution_count": 190,
   "id": "31d7a81e",
   "metadata": {},
   "outputs": [],
   "source": [
    "## Define Functions to Compute IsoScore\n",
    "## Rudman et al. 2022\n",
    "## TODO: make this a class\n",
    "\n",
    "## Step 2\n",
    "def pca_normalization(points):\n",
    "    \"\"\"points: (m samples x n dimensions)\"\"\"\n",
    "    \n",
    "    pca = PCA(n_components=len(np.transpose(points)))\n",
    "    points = pca.fit_transform(points)\n",
    "\n",
    "    return np.transpose(points)\n",
    "\n",
    "## Step 3\n",
    "def get_diag_of_cov(points):\n",
    "    \"\"\"points: (n dims x m samples)\"\"\"\n",
    "    \n",
    "    n = np.shape(points)[0]\n",
    "    cov = np.cov(points)\n",
    "    cov_diag = cov[np.diag_indices(n)]\n",
    "\n",
    "    return cov_diag\n",
    "\n",
    "## Step 4\n",
    "def normalize_diagonal(cov_diag):\n",
    "\n",
    "    n = len(cov_diag)\n",
    "    cov_diag_normalized = (cov_diag*np.sqrt(n))/np.linalg.norm(cov_diag)\n",
    "\n",
    "    return cov_diag_normalized\n",
    "\n",
    "## Step 5\n",
    "def get_isotropy_defect(cov_diag_normalized):\n",
    "\n",
    "    n = len(cov_diag_normalized)\n",
    "    iso_diag = np.eye(n)[np.diag_indices(n)]\n",
    "    l2_norm = np.linalg.norm(cov_diag_normalized - iso_diag)\n",
    "    normalization_constant = np.sqrt(2*(n-np.sqrt(n)))\n",
    "    isotropy_defect = l2_norm/normalization_constant\n",
    "\n",
    "    return isotropy_defect\n",
    "\n",
    "## Interlude\n",
    "def get_kdims(isotropy_defect, points): \n",
    "    \n",
    "    n = np.shape(points)[0]\n",
    "    k = ((n-(isotropy_defect**2)*(n-np.sqrt(n)))**2) / n\n",
    "    \n",
    "    return k\n",
    "\n",
    "def get_fraction_dims(k, points):\n",
    "    \n",
    "    n = np.shape(points)[0]\n",
    "    phi = k/n\n",
    "    \n",
    "    return phi\n",
    "\n",
    "## Step 6\n",
    "def get_IsoScore(isotropy_defect, points):\n",
    "\n",
    "    n = np.shape(points)[0]\n",
    "    the_score = ((n-(isotropy_defect**2)*(n-np.sqrt(n)))**2-n)/(n*(n-1))\n",
    "\n",
    "    return the_score\n",
    "\n",
    "\n",
    "### Define dataset class\n",
    "\n",
    "class MyCorpus:\n",
    "    \"\"\"An iterator that yields sentences (lists of str).\"\"\"\n",
    "\n",
    "    def __iter__(self):\n",
    "        corpus_path = datapath('lee_background.cor')\n",
    "        for line in open(corpus_path):\n",
    "            # assume there's one document per line, tokens separated by whitespace\n",
    "            yield utils.simple_preprocess(line)\n",
    "\n",
    "### Define functions from \n",
    "## Radim Hurek\n",
    "# https://radimrehurek.com/gensim/auto_examples/tutorials/run_word2vec.html#sphx-glr-auto-examples-tutorials-run-word2vec-py\n",
    "\n",
    "def head(path, size):\n",
    "    with smart_open.open(path) as fin:\n",
    "        return io.StringIO(fin.read(size))\n",
    "    \n",
    "def generate_input_data():\n",
    "    \n",
    "    labels = ('1MB', '10MB', '50MB', '100MB')\n",
    "    sizes = (1024 ** 2, 10 * 1024 ** 2, 50 * 1024 ** 2, 100 * 1024 ** 2)\n",
    "    for l, s in zip(labels, sizes):\n",
    "        ls = gensim.models.word2vec.LineSentence(head(text8_path, s))\n",
    "        ls.name = l\n",
    "        yield ls"
   ]
  },
  {
   "cell_type": "markdown",
   "id": "9d36cf2c",
   "metadata": {},
   "source": [
    "### Define your corpus"
   ]
  },
  {
   "cell_type": "code",
   "execution_count": 191,
   "id": "850f26d9",
   "metadata": {},
   "outputs": [
    {
     "data": {
      "text/plain": [
       "'100MB'"
      ]
     },
     "execution_count": 191,
     "metadata": {},
     "output_type": "execute_result"
    }
   ],
   "source": [
    "## from Gensim\n",
    "text8_path = api.load('text8').fn\n",
    "\n",
    "input_data = list(generate_input_data())\n",
    "input_data[-1].name"
   ]
  },
  {
   "cell_type": "markdown",
   "id": "80e411ad",
   "metadata": {},
   "source": [
    "### Vary number of negative samples"
   ]
  },
  {
   "cell_type": "code",
   "execution_count": 192,
   "id": "f9e7617b",
   "metadata": {},
   "outputs": [],
   "source": [
    "# param sets from Mimno & Thompson (2017)\n",
    "\n",
    "negsamps = np.linspace(1,15,15)\n",
    "window_size = 5\n",
    "embedding_dim = 50"
   ]
  },
  {
   "cell_type": "code",
   "execution_count": 194,
   "id": "c6f3c083",
   "metadata": {},
   "outputs": [
    {
     "data": {
      "application/vnd.jupyter.widget-view+json": {
       "model_id": "e4836056a1e442feaea98934169c7a59",
       "version_major": 2,
       "version_minor": 0
      },
      "text/plain": [
       "  0%|          | 0/4 [00:00<?, ?it/s]"
      ]
     },
     "metadata": {},
     "output_type": "display_data"
    },
    {
     "data": {
      "application/vnd.jupyter.widget-view+json": {
       "model_id": "bdbbd36ab597410f940a610345f01d3c",
       "version_major": 2,
       "version_minor": 0
      },
      "text/plain": [
       "  0%|          | 0/15 [00:00<?, ?it/s]"
      ]
     },
     "metadata": {},
     "output_type": "display_data"
    },
    {
     "data": {
      "application/vnd.jupyter.widget-view+json": {
       "model_id": "4d8dd6274d1b4eeb971ab54e423364e8",
       "version_major": 2,
       "version_minor": 0
      },
      "text/plain": [
       "  0%|          | 0/15 [00:00<?, ?it/s]"
      ]
     },
     "metadata": {},
     "output_type": "display_data"
    },
    {
     "data": {
      "application/vnd.jupyter.widget-view+json": {
       "model_id": "2d1b820745ca4edfb7673fc9b4689b65",
       "version_major": 2,
       "version_minor": 0
      },
      "text/plain": [
       "  0%|          | 0/15 [00:00<?, ?it/s]"
      ]
     },
     "metadata": {},
     "output_type": "display_data"
    },
    {
     "data": {
      "application/vnd.jupyter.widget-view+json": {
       "model_id": "95215496e66e474684fa15b8e5df5b2e",
       "version_major": 2,
       "version_minor": 0
      },
      "text/plain": [
       "  0%|          | 0/15 [00:00<?, ?it/s]"
      ]
     },
     "metadata": {},
     "output_type": "display_data"
    }
   ],
   "source": [
    "d = []\n",
    "\n",
    "for data in tqdm(input_data, colour=\"hotpink\"): \n",
    "    \n",
    "    for n in tqdm(negsamps, colour=\"cornflowerblue\"):\n",
    "\n",
    "        for rs in range(1, 3):\n",
    "\n",
    "            # Train an sgns model with these params\n",
    "            model = gensim.models.Word2Vec(sentences=data,\n",
    "                                           negative=n, \n",
    "                                           window=window_size,\n",
    "                                           vector_size=embedding_dim,\n",
    "                                           seed = rs\n",
    "                                          )\n",
    "\n",
    "            # Grab the dataset size, will be a string\n",
    "            data_sizestr = data.name\n",
    "\n",
    "\n",
    "            # Visualize pca-transformed embeddings per model\n",
    "            V = []\n",
    "            for ix, word in enumerate(model.wv.index_to_key):\n",
    "\n",
    "                V.append(model.wv[word])\n",
    "\n",
    "#             pca = PCA(n_components=3)\n",
    "#             V_pca = pca.fit_transform(V)\n",
    "\n",
    "\n",
    "#             # Create a 3D surface plot using Matplotlib\n",
    "#             fig = plt.figure(figsize=(2,2))\n",
    "#             ax = fig.add_subplot(111, projection='3d')\n",
    "#             ax.scatter(V_pca[:,0], V_pca[:,1], V_pca[:,2])\n",
    "\n",
    "#             # Customize the plot using Seaborn's styling options\n",
    "#             sns.set_style(\"whitegrid\")\n",
    "#             ax.set_xlabel('dim1')\n",
    "#             ax.set_ylabel('dim2')\n",
    "#             ax.set_zlabel('dim3')\n",
    "#             ax.set_title(f\"{n} negative samples\")\n",
    "\n",
    "            # Compute isoscore on embedding matrix\n",
    "            pca_layer_embed = pca_normalization(V)\n",
    "            cov_diag = get_diag_of_cov(pca_layer_embed)\n",
    "            cov_diag_normalized = normalize_diagonal(cov_diag)\n",
    "            isotropy_defect = get_isotropy_defect(cov_diag_normalized)\n",
    "            k = get_kdims(isotropy_defect, pca_layer_embed)\n",
    "            phi = get_fraction_dims(k, pca_layer_embed)\n",
    "            isoscore = get_IsoScore(isotropy_defect, pca_layer_embed)\n",
    "\n",
    "            d.append({\"n_negsamps\": n,\n",
    "                      \"window_size\": window_size,\n",
    "                      \"embedding_dim\": embedding_dim,\n",
    "                      \"kdims\": k,\n",
    "                      \"isoscore\": isoscore,\n",
    "                      'rs': rs,\n",
    "                      \"train_data_size\": data_sizestr\n",
    "                     })\n",
    "\n",
    "df = pd.DataFrame(d)\n"
   ]
  },
  {
   "cell_type": "code",
   "execution_count": 196,
   "id": "ff4c8f30",
   "metadata": {},
   "outputs": [],
   "source": [
    "df[\"corpus\"] = np.repeat(\"text8-gensim\",df.shape[0])"
   ]
  },
  {
   "cell_type": "code",
   "execution_count": 198,
   "id": "bbe3368c",
   "metadata": {},
   "outputs": [
    {
     "data": {
      "text/html": [
       "<div>\n",
       "<style scoped>\n",
       "    .dataframe tbody tr th:only-of-type {\n",
       "        vertical-align: middle;\n",
       "    }\n",
       "\n",
       "    .dataframe tbody tr th {\n",
       "        vertical-align: top;\n",
       "    }\n",
       "\n",
       "    .dataframe thead th {\n",
       "        text-align: right;\n",
       "    }\n",
       "</style>\n",
       "<table border=\"1\" class=\"dataframe\">\n",
       "  <thead>\n",
       "    <tr style=\"text-align: right;\">\n",
       "      <th></th>\n",
       "      <th>n_negsamps</th>\n",
       "      <th>window_size</th>\n",
       "      <th>embedding_dim</th>\n",
       "      <th>kdims</th>\n",
       "      <th>isoscore</th>\n",
       "      <th>rs</th>\n",
       "      <th>train_data_size</th>\n",
       "      <th>corpus</th>\n",
       "      <th>model</th>\n",
       "    </tr>\n",
       "  </thead>\n",
       "  <tbody>\n",
       "    <tr>\n",
       "      <th>0</th>\n",
       "      <td>1.0</td>\n",
       "      <td>5</td>\n",
       "      <td>50</td>\n",
       "      <td>1.353451</td>\n",
       "      <td>0.007213</td>\n",
       "      <td>1</td>\n",
       "      <td>1MB</td>\n",
       "      <td>text8-gensim</td>\n",
       "      <td>sgns</td>\n",
       "    </tr>\n",
       "    <tr>\n",
       "      <th>1</th>\n",
       "      <td>1.0</td>\n",
       "      <td>5</td>\n",
       "      <td>50</td>\n",
       "      <td>1.353619</td>\n",
       "      <td>0.007217</td>\n",
       "      <td>2</td>\n",
       "      <td>1MB</td>\n",
       "      <td>text8-gensim</td>\n",
       "      <td>sgns</td>\n",
       "    </tr>\n",
       "    <tr>\n",
       "      <th>2</th>\n",
       "      <td>2.0</td>\n",
       "      <td>5</td>\n",
       "      <td>50</td>\n",
       "      <td>1.832325</td>\n",
       "      <td>0.016986</td>\n",
       "      <td>1</td>\n",
       "      <td>1MB</td>\n",
       "      <td>text8-gensim</td>\n",
       "      <td>sgns</td>\n",
       "    </tr>\n",
       "    <tr>\n",
       "      <th>3</th>\n",
       "      <td>2.0</td>\n",
       "      <td>5</td>\n",
       "      <td>50</td>\n",
       "      <td>1.839020</td>\n",
       "      <td>0.017123</td>\n",
       "      <td>2</td>\n",
       "      <td>1MB</td>\n",
       "      <td>text8-gensim</td>\n",
       "      <td>sgns</td>\n",
       "    </tr>\n",
       "    <tr>\n",
       "      <th>4</th>\n",
       "      <td>3.0</td>\n",
       "      <td>5</td>\n",
       "      <td>50</td>\n",
       "      <td>1.664990</td>\n",
       "      <td>0.013571</td>\n",
       "      <td>1</td>\n",
       "      <td>1MB</td>\n",
       "      <td>text8-gensim</td>\n",
       "      <td>sgns</td>\n",
       "    </tr>\n",
       "    <tr>\n",
       "      <th>...</th>\n",
       "      <td>...</td>\n",
       "      <td>...</td>\n",
       "      <td>...</td>\n",
       "      <td>...</td>\n",
       "      <td>...</td>\n",
       "      <td>...</td>\n",
       "      <td>...</td>\n",
       "      <td>...</td>\n",
       "      <td>...</td>\n",
       "    </tr>\n",
       "    <tr>\n",
       "      <th>115</th>\n",
       "      <td>13.0</td>\n",
       "      <td>5</td>\n",
       "      <td>50</td>\n",
       "      <td>24.471030</td>\n",
       "      <td>0.479001</td>\n",
       "      <td>2</td>\n",
       "      <td>100MB</td>\n",
       "      <td>text8-gensim</td>\n",
       "      <td>sgns</td>\n",
       "    </tr>\n",
       "    <tr>\n",
       "      <th>116</th>\n",
       "      <td>14.0</td>\n",
       "      <td>5</td>\n",
       "      <td>50</td>\n",
       "      <td>24.597348</td>\n",
       "      <td>0.481579</td>\n",
       "      <td>1</td>\n",
       "      <td>100MB</td>\n",
       "      <td>text8-gensim</td>\n",
       "      <td>sgns</td>\n",
       "    </tr>\n",
       "    <tr>\n",
       "      <th>117</th>\n",
       "      <td>14.0</td>\n",
       "      <td>5</td>\n",
       "      <td>50</td>\n",
       "      <td>24.630978</td>\n",
       "      <td>0.482265</td>\n",
       "      <td>2</td>\n",
       "      <td>100MB</td>\n",
       "      <td>text8-gensim</td>\n",
       "      <td>sgns</td>\n",
       "    </tr>\n",
       "    <tr>\n",
       "      <th>118</th>\n",
       "      <td>15.0</td>\n",
       "      <td>5</td>\n",
       "      <td>50</td>\n",
       "      <td>24.665673</td>\n",
       "      <td>0.482973</td>\n",
       "      <td>1</td>\n",
       "      <td>100MB</td>\n",
       "      <td>text8-gensim</td>\n",
       "      <td>sgns</td>\n",
       "    </tr>\n",
       "    <tr>\n",
       "      <th>119</th>\n",
       "      <td>15.0</td>\n",
       "      <td>5</td>\n",
       "      <td>50</td>\n",
       "      <td>24.665283</td>\n",
       "      <td>0.482965</td>\n",
       "      <td>2</td>\n",
       "      <td>100MB</td>\n",
       "      <td>text8-gensim</td>\n",
       "      <td>sgns</td>\n",
       "    </tr>\n",
       "  </tbody>\n",
       "</table>\n",
       "<p>120 rows × 9 columns</p>\n",
       "</div>"
      ],
      "text/plain": [
       "     n_negsamps  window_size  embedding_dim      kdims  isoscore  rs  \\\n",
       "0           1.0            5             50   1.353451  0.007213   1   \n",
       "1           1.0            5             50   1.353619  0.007217   2   \n",
       "2           2.0            5             50   1.832325  0.016986   1   \n",
       "3           2.0            5             50   1.839020  0.017123   2   \n",
       "4           3.0            5             50   1.664990  0.013571   1   \n",
       "..          ...          ...            ...        ...       ...  ..   \n",
       "115        13.0            5             50  24.471030  0.479001   2   \n",
       "116        14.0            5             50  24.597348  0.481579   1   \n",
       "117        14.0            5             50  24.630978  0.482265   2   \n",
       "118        15.0            5             50  24.665673  0.482973   1   \n",
       "119        15.0            5             50  24.665283  0.482965   2   \n",
       "\n",
       "    train_data_size        corpus model  \n",
       "0               1MB  text8-gensim  sgns  \n",
       "1               1MB  text8-gensim  sgns  \n",
       "2               1MB  text8-gensim  sgns  \n",
       "3               1MB  text8-gensim  sgns  \n",
       "4               1MB  text8-gensim  sgns  \n",
       "..              ...           ...   ...  \n",
       "115           100MB  text8-gensim  sgns  \n",
       "116           100MB  text8-gensim  sgns  \n",
       "117           100MB  text8-gensim  sgns  \n",
       "118           100MB  text8-gensim  sgns  \n",
       "119           100MB  text8-gensim  sgns  \n",
       "\n",
       "[120 rows x 9 columns]"
      ]
     },
     "execution_count": 198,
     "metadata": {},
     "output_type": "execute_result"
    }
   ],
   "source": [
    "df[\"model\"] = np.repeat(\"sgns\",df.shape[0])\n"
   ]
  },
  {
   "cell_type": "code",
   "execution_count": 199,
   "id": "26072387",
   "metadata": {},
   "outputs": [],
   "source": [
    "savepath = \"results/\"\n",
    "if not os.path.exists(savepath): \n",
    "    os.mkdir(savepath)\n",
    "    \n",
    "df.to_csv(os.path.join(savepath,\"sgns-vary-negsamps-meas-isotropy.csv\"))"
   ]
  },
  {
   "cell_type": "code",
   "execution_count": 202,
   "id": "08dec496",
   "metadata": {},
   "outputs": [
    {
     "data": {
      "text/plain": [
       "Index(['n_negsamps', 'window_size', 'embedding_dim', 'kdims', 'isoscore', 'rs',\n",
       "       'train_data_size', 'corpus', 'model'],\n",
       "      dtype='object')"
      ]
     },
     "execution_count": 202,
     "metadata": {},
     "output_type": "execute_result"
    }
   ],
   "source": [
    "df.columns"
   ]
  },
  {
   "cell_type": "code",
   "execution_count": 205,
   "id": "eef4c5ef",
   "metadata": {},
   "outputs": [
    {
     "data": {
      "image/png": "[encoded data removed]",
      "text/plain": [
       "<Figure size 1500x600 with 2 Axes>"
      ]
     },
     "metadata": {},
     "output_type": "display_data"
    }
   ],
   "source": [
    "sns.set(font_scale=1.5,style=\"whitegrid\")\n",
    "fig,ax = plt.subplots(1,2,figsize=(15,6))\n",
    "\n",
    "sns.lineplot(data=df,\n",
    "             x=\"n_negsamps\",\n",
    "             y=\"isoscore\",\n",
    "             hue=\"train_data_size\",\n",
    "             ax=ax[0]\n",
    "            )\n",
    "ax[0].set_ylim(0,)\n",
    "\n",
    "sns.lineplot(data=df,\n",
    "             x=\"n_negsamps\",\n",
    "             y=\"kdims\",\n",
    "             hue=\"train_data_size\",\n",
    "              ax=ax[1]\n",
    "            )\n",
    "ax[1].set_ylim(1,)\n",
    "\n",
    "for a in ax:\n",
    "    a.set_xlim(1,)\n",
    "    a.set_title(f\"{data_sizestr} training corpus\")"
   ]
  },
  {
   "cell_type": "code",
   "execution_count": null,
   "id": "a4f23361",
   "metadata": {},
   "outputs": [],
   "source": []
  },
  {
   "cell_type": "code",
   "execution_count": null,
   "id": "09a55a33",
   "metadata": {},
   "outputs": [],
   "source": []
  },
  {
   "cell_type": "code",
   "execution_count": null,
   "id": "6e108460",
   "metadata": {},
   "outputs": [],
   "source": []
  },
  {
   "cell_type": "code",
   "execution_count": null,
   "id": "4afd18f0",
   "metadata": {},
   "outputs": [],
   "source": []
  },
  {
   "cell_type": "markdown",
   "id": "5a2aaa96",
   "metadata": {},
   "source": [
    "### compare to average cosine similarity results -- opposite to Mimno & Thompson 2017?"
   ]
  },
  {
   "cell_type": "code",
   "execution_count": null,
   "id": "acfd374b",
   "metadata": {},
   "outputs": [],
   "source": []
  }
 ],
 "metadata": {
  "kernelspec": {
   "display_name": "Python 3 (ipykernel)",
   "language": "python",
   "name": "python3"
  },
  "language_info": {
   "codemirror_mode": {
    "name": "ipython",
    "version": 3
   },
   "file_extension": ".py",
   "mimetype": "text/x-python",
   "name": "python",
   "nbconvert_exporter": "python",
   "pygments_lexer": "ipython3",
   "version": "3.9.13"
  }
 },
 "nbformat": 4,
 "nbformat_minor": 5
}
