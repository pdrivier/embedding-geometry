{
 "cells": [
  {
   "cell_type": "code",
   "execution_count": 25,
   "id": "1fbb3b04",
   "metadata": {},
   "outputs": [
    {
     "name": "stdout",
     "output_type": "stream",
     "text": [
      "Once deleted, variables cannot be recovered. Proceed (y/[n])? y\n"
     ]
    }
   ],
   "source": [
    "%reset \n",
    "\n",
    "import torch\n",
    "import torch.nn as nn\n",
    "import torch.optim as optim\n",
    "from torch.utils.data import Dataset, DataLoader\n",
    "import numpy as np\n",
    "from collections import Counter\n",
    "import re"
   ]
  },
  {
   "cell_type": "code",
   "execution_count": 26,
   "id": "3ee18002",
   "metadata": {},
   "outputs": [
    {
     "name": "stdout",
     "output_type": "stream",
     "text": [
      "torch.Size([4, 3])\n"
     ]
    },
    {
     "data": {
      "text/plain": [
       "Text(0.5, 0, 'dim3')"
      ]
     },
     "execution_count": 26,
     "metadata": {},
     "output_type": "execute_result"
    },
    {
     "data": {
      "image/png": "[encoded data removed]",
      "text/plain": [
       "<Figure size 200x200 with 1 Axes>"
      ]
     },
     "metadata": {},
     "output_type": "display_data"
    }
   ],
   "source": [
    "### tmp example \n",
    "\n",
    "# Create an embedding layer\n",
    "embed = nn.Embedding(10, 3)  # 10 words, 3-dimensional embeddings\n",
    "\n",
    "# Input tensor (batch of word indices)\n",
    "input = torch.LongTensor([1, 4, 3, 2])\n",
    "\n",
    "# Get embeddings\n",
    "embeddings = embed(input)\n",
    "\n",
    "print(embeddings.shape)  \n",
    "\n",
    "\n",
    "import seaborn as sns\n",
    "import matplotlib.pyplot as plt\n",
    "from mpl_toolkits.mplot3d import Axes3D\n",
    "\n",
    "\n",
    "embeddings = embed(torch.LongTensor(np.linspace(0,9,10))).detach().numpy()\n",
    "\n",
    "# Create a 3D surface plot using Matplotlib\n",
    "fig = plt.figure(figsize=(2,2))\n",
    "ax = fig.add_subplot(111, projection='3d')\n",
    "ax.scatter(embeddings[:,0], embeddings[:,1], embeddings[:,2])\n",
    "\n",
    "# Customize the plot using Seaborn's styling options\n",
    "sns.set_style(\"whitegrid\")\n",
    "ax.set_xlabel('dim1')\n",
    "ax.set_ylabel('dim2')\n",
    "ax.set_zlabel('dim3')"
   ]
  },
  {
   "cell_type": "markdown",
   "id": "a62ab31d",
   "metadata": {},
   "source": [
    "# Sample run with custom corpus\n"
   ]
  },
  {
   "cell_type": "code",
   "execution_count": 96,
   "id": "dd892a35",
   "metadata": {},
   "outputs": [],
   "source": [
    "def preprocess_text(text):\n",
    "    text = text.lower()\n",
    "    text = re.sub(r'[^\\w\\s]', '', text)\n",
    "    return text.split()\n",
    "\n",
    "corpus = [\n",
    "    \"the quick brown fox jumps over the lazy dog\",\n",
    "    \"the five boxing wizards jump quickly\",\n",
    "    \"we saw five brown slugs last night\",\n",
    "    \"some wizards worked their magic quickly\",\n",
    "    \"magic faded from their memory soon after\",\n",
    "    \"their brown hands withered and soon it was all over\",\n",
    "    \"magic went over their hands\",\n",
    "    \"it worked as long as memory held fast\",\n",
    "    \"the wizards bled for their magic\",\n",
    "    \"a quick jump was all they needed\",\n",
    "    \"the withered hands became dust\",\n",
    "    \"brown dust coated the land\",\n",
    "    \"the brown fox sniffed the air and it was clear\"\n",
    "    # Add more sentences to your corpus\n",
    "]\n",
    "\n",
    "words = [word for sentence in corpus for word in preprocess_text(sentence)]\n",
    "\n",
    "vocab = Counter(words)\n",
    "vocab = {word: i for i, (word, count) in enumerate(vocab.items()) if count > 1} \n",
    "vocab = {word: i for i, (word, count) in enumerate(vocab.items())}\n",
    "\n",
    "vocab_size = len(vocab)"
   ]
  },
  {
   "cell_type": "code",
   "execution_count": 97,
   "id": "5af25af8",
   "metadata": {},
   "outputs": [
    {
     "data": {
      "text/plain": [
       "{'the': 0,\n",
       " 'quick': 1,\n",
       " 'brown': 2,\n",
       " 'fox': 3,\n",
       " 'over': 4,\n",
       " 'five': 5,\n",
       " 'wizards': 6,\n",
       " 'jump': 7,\n",
       " 'quickly': 8,\n",
       " 'worked': 9,\n",
       " 'their': 10,\n",
       " 'magic': 11,\n",
       " 'memory': 12,\n",
       " 'soon': 13,\n",
       " 'hands': 14,\n",
       " 'withered': 15,\n",
       " 'and': 16,\n",
       " 'it': 17,\n",
       " 'was': 18,\n",
       " 'all': 19,\n",
       " 'as': 20,\n",
       " 'dust': 21}"
      ]
     },
     "execution_count": 97,
     "metadata": {},
     "output_type": "execute_result"
    }
   ],
   "source": [
    "vocab"
   ]
  },
  {
   "cell_type": "code",
   "execution_count": 98,
   "id": "c503934d",
   "metadata": {},
   "outputs": [],
   "source": [
    "# Pam mod from Claude\n",
    "\n",
    "## ------------------------------------------------------------------\n",
    "## DATASET PROPERTIES\n",
    "## ------------------------------------------------------------------\n",
    "\n",
    "# set up custom dataloader, with preprocessing tools\n",
    "def preprocess_text(text):\n",
    "    text = text.lower()\n",
    "    text = re.sub(r'[^\\w\\s]', '', text)\n",
    "    return text.split()\n",
    "\n",
    "class SkipGramDataset(Dataset):\n",
    "    def __init__(self, corpus, vocab, window_size=2):\n",
    "        self.data = []\n",
    "        for sentence in corpus:\n",
    "            words = preprocess_text(sentence)\n",
    "            for i, word in enumerate(words):\n",
    "                if word in vocab:\n",
    "                    for j in range(max(0, i - window_size), min(len(words), i + window_size + 1)):\n",
    "                        if i != j and words[j] in vocab:\n",
    "                            self.data.append((vocab[word], vocab[words[j]]))\n",
    "                            \n",
    "    \n",
    "    def __len__(self):\n",
    "        return len(self.data)\n",
    "    \n",
    "    def __getitem__(self, idx):\n",
    "        return self.data[idx]\n",
    "\n",
    "## ------------------------------------------------------------------\n",
    "## MODEL PROPERTIES\n",
    "## ------------------------------------------------------------------\n",
    "    \n",
    "# define mechanism to draw negative samples    \n",
    "def get_negative_samples(batch_size, num_samples, vocab_size):\n",
    "    return torch.randint(0, vocab_size, (batch_size, num_samples))\n",
    "\n",
    "# define loss function and optimizer\n",
    "def skip_gram_negative_sampling_loss(model, target, context, negative_samples):\n",
    "    batch_size = target.shape[0]\n",
    "    positive_loss = torch.mean(torch.log(torch.sigmoid(model(target, context))))\n",
    "    negative_loss = torch.mean(torch.log(torch.sigmoid(-model(target.repeat(1, negative_samples.shape[1]), negative_samples.flatten()).view(batch_size, -1))))\n",
    "    return -(positive_loss + negative_loss)\n",
    "\n",
    "# define your model\n",
    "class SkipGramNegSampling(nn.Module):\n",
    "    def __init__(self, vocab_size, embedding_dim):\n",
    "        super(SkipGramNegSampling, self).__init__()\n",
    "        self.embeddings = nn.Embedding(vocab_size, embedding_dim)\n",
    "        self.output = nn.Embedding(vocab_size, embedding_dim)\n",
    "        \n",
    "    def forward(self, target, context):\n",
    "        target_emb = self.embeddings(target)\n",
    "        context_emb = self.output(context)\n",
    "        return torch.sum(target_emb * context_emb, dim=1)\n",
    "\n",
    "## ------------------------------------------------------------------\n",
    "## TRAINING PROTOCOL\n",
    "## ------------------------------------------------------------------\n",
    "\n",
    "def train_skip_gram_model(model, dataset, num_epochs, batch_size, learning_rate, num_negative_samples):\n",
    "    dataloader = DataLoader(dataset, batch_size=batch_size, shuffle=True, drop_last=True)#, num_workers=2)\n",
    "    optimizer = optim.Adam(model.parameters(), lr=learning_rate)\n",
    "    \n",
    "    for epoch in range(num_epochs):\n",
    "        total_loss = 0\n",
    "        for batch_target, batch_context in dataloader:\n",
    "            negative_samples = get_negative_samples(batch_size, num_negative_samples, vocab_size)\n",
    "            loss = skip_gram_negative_sampling_loss(model, batch_target, batch_context, negative_samples)\n",
    "            \n",
    "            optimizer.zero_grad()\n",
    "            loss.backward()\n",
    "            optimizer.step()\n",
    "            \n",
    "            total_loss += loss.item()\n",
    "        \n",
    "        print(f\"Epoch {epoch + 1}/{num_epochs}, Loss: {total_loss / len(dataloader):.4f}\")\n"
   ]
  },
  {
   "cell_type": "code",
   "execution_count": 99,
   "id": "da2a78bc",
   "metadata": {
    "scrolled": false
   },
   "outputs": [
    {
     "name": "stdout",
     "output_type": "stream",
     "text": [
      "Epoch 1/50, Loss: 10.4514\n",
      "Epoch 2/50, Loss: 9.1797\n",
      "Epoch 3/50, Loss: 9.6465\n",
      "Epoch 4/50, Loss: 8.3264\n",
      "Epoch 5/50, Loss: 6.8125\n",
      "Epoch 6/50, Loss: 7.0380\n",
      "Epoch 7/50, Loss: 6.0300\n",
      "Epoch 8/50, Loss: 5.5029\n",
      "Epoch 9/50, Loss: 4.8079\n",
      "Epoch 10/50, Loss: 5.1078\n",
      "Epoch 11/50, Loss: 5.1247\n",
      "Epoch 12/50, Loss: 4.5924\n",
      "Epoch 13/50, Loss: 4.0694\n",
      "Epoch 14/50, Loss: 3.9053\n",
      "Epoch 15/50, Loss: 3.6437\n",
      "Epoch 16/50, Loss: 3.5778\n",
      "Epoch 17/50, Loss: 3.1497\n",
      "Epoch 18/50, Loss: 3.0467\n",
      "Epoch 19/50, Loss: 3.0793\n",
      "Epoch 20/50, Loss: 3.4831\n",
      "Epoch 21/50, Loss: 2.7503\n",
      "Epoch 22/50, Loss: 2.4994\n",
      "Epoch 23/50, Loss: 2.4373\n",
      "Epoch 24/50, Loss: 3.0650\n",
      "Epoch 25/50, Loss: 2.0284\n",
      "Epoch 26/50, Loss: 2.5681\n",
      "Epoch 27/50, Loss: 2.5928\n",
      "Epoch 28/50, Loss: 2.0030\n",
      "Epoch 29/50, Loss: 2.1107\n",
      "Epoch 30/50, Loss: 1.8256\n",
      "Epoch 31/50, Loss: 2.0970\n",
      "Epoch 32/50, Loss: 1.8928\n",
      "Epoch 33/50, Loss: 2.2977\n",
      "Epoch 34/50, Loss: 1.8362\n",
      "Epoch 35/50, Loss: 1.6784\n",
      "Epoch 36/50, Loss: 1.4149\n",
      "Epoch 37/50, Loss: 1.7312\n",
      "Epoch 38/50, Loss: 1.5896\n",
      "Epoch 39/50, Loss: 1.5947\n",
      "Epoch 40/50, Loss: 1.4635\n",
      "Epoch 41/50, Loss: 1.6260\n",
      "Epoch 42/50, Loss: 1.2262\n",
      "Epoch 43/50, Loss: 1.6823\n",
      "Epoch 44/50, Loss: 1.5896\n",
      "Epoch 45/50, Loss: 1.2318\n",
      "Epoch 46/50, Loss: 1.4927\n",
      "Epoch 47/50, Loss: 1.1747\n",
      "Epoch 48/50, Loss: 1.2218\n",
      "Epoch 49/50, Loss: 0.8539\n",
      "Epoch 50/50, Loss: 1.2518\n"
     ]
    }
   ],
   "source": [
    "# Main execution\n",
    "embedding_dim = 96 #this needs to be divisible by batch size\n",
    "window_size = 2\n",
    "num_epochs = 50\n",
    "batch_size = 32\n",
    "learning_rate = 0.01 #increase learning rate when have few train samples\n",
    "num_negative_samples = 5\n",
    "\n",
    "dataset = SkipGramDataset(corpus, vocab, window_size)\n",
    "model = SkipGramNegSampling(vocab_size, embedding_dim)\n",
    "\n",
    "train_skip_gram_model(model, dataset, num_epochs, batch_size, learning_rate, num_negative_samples)\n",
    "\n"
   ]
  },
  {
   "cell_type": "code",
   "execution_count": 162,
   "id": "5494e3de",
   "metadata": {},
   "outputs": [],
   "source": [
    "wordlist = [k for k in iter(vocab.keys())]\n",
    "# print(wordlist)"
   ]
  },
  {
   "cell_type": "code",
   "execution_count": 161,
   "id": "078f9402",
   "metadata": {},
   "outputs": [
    {
     "name": "stdout",
     "output_type": "stream",
     "text": [
      "Embedding for 'dust': [[ 0.21945988  1.1764295  -1.4611852  -0.18026064 -0.78887796 -1.3359647\n",
      "  -0.6546871  -0.17525178  0.54689336 -0.3250825   0.86959136  1.0185804\n",
      "  -2.2881556   0.809982    0.89064217 -1.7091453  -0.63408506 -1.1094322\n",
      "   0.44005778 -0.8271995  -0.919059    0.9608377  -0.24831927  1.4367152\n",
      "  -1.5163509   0.8382067   0.5116631  -0.10990898  0.19604656  1.3597084\n",
      "   0.45080042  1.2045135   0.83245677  0.53935844  0.34836322 -0.5979176\n",
      "  -0.19959797  0.10125067  0.74846053  0.18983449 -1.5595146   1.4963167\n",
      "   0.02911589  1.0145794  -0.5544937   0.07524031  1.0818726  -0.3212605\n",
      "   0.5308675  -0.25109658 -1.2385468   0.06981643 -0.20879817 -0.44348228\n",
      "  -0.6282715   0.5493253   0.37070385  0.81486595 -1.6604741   0.13270913\n",
      "  -1.0134832   0.7633863   0.14795288  0.4836618  -0.44594747  0.26832637\n",
      "  -0.98714143 -1.3772928   0.06191068 -0.17182899  0.9750807  -0.5246336\n",
      "  -0.29885605  0.3305674   0.23849519  0.46252123 -0.38878432  0.85875285\n",
      "   0.10566909 -0.09853905 -0.32530683 -1.2079046  -0.8509471  -1.4966621\n",
      "   0.29267904  0.33878413 -0.35727397  1.8302506  -1.0770655  -0.45969412\n",
      "  -0.1702855   1.2269757  -0.29295754 -0.17319049  0.42655903 -0.02033998]]\n"
     ]
    },
    {
     "data": {
      "text/plain": [
       "Text(0.5, 0, 'dim3')"
      ]
     },
     "execution_count": 161,
     "metadata": {},
     "output_type": "execute_result"
    },
    {
     "data": {
      "image/png": "[encoded data removed]",
      "text/plain": [
       "<Figure size 200x200 with 1 Axes>"
      ]
     },
     "metadata": {},
     "output_type": "display_data"
    }
   ],
   "source": [
    "# Visualize the embeddings\n",
    "def get_word_vector(word, model, vocab):\n",
    "    return model.embeddings(torch.tensor([vocab[word]])).detach().numpy()\n",
    "\n",
    "# Example: Get the embedding for a specific word\n",
    "word = wordlist[-1]\n",
    "vector = get_word_vector(word, model, vocab)\n",
    "print(f\"Embedding for '{word}': {vector}\")\n",
    "\n",
    "# To visualize the embeddings, you can use techniques like t-SNE or PCA\n",
    "\n",
    "V = []\n",
    "for word in wordlist:\n",
    "    \n",
    "    V.append(get_word_vector(word,model,vocab)[0])\n",
    "    \n",
    "from sklearn.decomposition import PCA\n",
    "pca = PCA(n_components=3)\n",
    "V_pca = pca.fit_transform(V)\n",
    "\n",
    "\n",
    "# Create a 3D surface plot using Matplotlib\n",
    "fig = plt.figure(figsize=(2,2))\n",
    "ax = fig.add_subplot(111, projection='3d')\n",
    "ax.scatter(V_pca[:,0], V_pca[:,1], V_pca[:,2])\n",
    "\n",
    "# Customize the plot using Seaborn's styling options\n",
    "sns.set_style(\"whitegrid\")\n",
    "ax.set_xlabel('dim1')\n",
    "ax.set_ylabel('dim2')\n",
    "ax.set_zlabel('dim3')"
   ]
  },
  {
   "cell_type": "code",
   "execution_count": null,
   "id": "ebe99583",
   "metadata": {},
   "outputs": [],
   "source": []
  }
 ],
 "metadata": {
  "kernelspec": {
   "display_name": "Python 3 (ipykernel)",
   "language": "python",
   "name": "python3"
  },
  "language_info": {
   "codemirror_mode": {
    "name": "ipython",
    "version": 3
   },
   "file_extension": ".py",
   "mimetype": "text/x-python",
   "name": "python",
   "nbconvert_exporter": "python",
   "pygments_lexer": "ipython3",
   "version": "3.9.13"
  }
 },
 "nbformat": 4,
 "nbformat_minor": 5
}
